{
 "cells": [
  {
   "cell_type": "markdown",
   "metadata": {},
   "source": [
    "# <机器学习>课程 Lecture 2 实验"
   ]
  },
  {
   "cell_type": "markdown",
   "metadata": {},
   "source": [
    "## 逻辑回归模型\n",
    "\n",
    "给定一组数据,其输入维度为2,输出维度为1.完成二分类任务.\n",
    "\n",
    "请分别使用sklearn,梯度下降法和模拟退火法来拟合."
   ]
  },
  {
   "cell_type": "markdown",
   "metadata": {},
   "source": [
    "从文件中读取数据用于后续实验."
   ]
  },
  {
   "cell_type": "code",
   "execution_count": null,
   "metadata": {},
   "outputs": [],
   "source": [
    "import numpy as np\n",
    "from sklearn.model_selection import train_test_split\n",
    "\n",
    "data_filename = \"cls_data_0303_1007_2.npy\"\n",
    "cls_data = np.load(data_filename)\n",
    "x_data, y_data = cls_data[:, :-1], cls_data[:, -1]\n",
    "\n",
    "x_train, x_test, y_train, y_test = train_test_split(\n",
    "    x_data, y_data,\n",
    "    train_size=0.8, shuffle=True,\n",
    "    stratify=y_data\n",
    ")\n",
    "\n",
    "# x_data in [b, c_in]\n",
    "c_in = x_data.shape[1]\n",
    "# y_data in [b, c_out]\n",
    "c_out = 1\n"
   ]
  },
  {
   "cell_type": "markdown",
   "metadata": {},
   "source": [
    "首先可视化数据,观察是否是可分的."
   ]
  },
  {
   "cell_type": "code",
   "execution_count": null,
   "metadata": {},
   "outputs": [],
   "source": [
    "from matplotlib import pyplot as plt\n",
    "\n",
    "plt.figure()\n",
    "\n",
    "pos_data = x_data[y_data == 1, :]\n",
    "neg_data = x_data[y_data == 0, :]\n",
    "\n",
    "plt.scatter(pos_data[:, 0], pos_data[:, 1], c='red')\n",
    "plt.scatter(neg_data[:, 0], neg_data[:, 1], c='blue')\n",
    "\n",
    "plt.show()"
   ]
  },
  {
   "cell_type": "markdown",
   "metadata": {},
   "source": [
    "### 使用sklearn中的线性模型拟合\n"
   ]
  },
  {
   "cell_type": "code",
   "execution_count": null,
   "metadata": {},
   "outputs": [],
   "source": [
    "from sklearn.linear_model import LogisticRegression\n",
    "\n",
    "# === 创建模型并进行拟合 ===\n",
    "# model = ?\n",
    "\n",
    "# === 计算模型的分类准确率 ===\n",
    "# accuracy =\n",
    "# print(accuracy)"
   ]
  },
  {
   "cell_type": "markdown",
   "metadata": {},
   "source": [
    "### 参考之前线性模型实验的代码,实现梯度下降拟合"
   ]
  },
  {
   "cell_type": "code",
   "execution_count": null,
   "metadata": {},
   "outputs": [],
   "source": [
    "import numpy as np\n",
    "\n",
    "# == 补全sigmoid定义 ===\n",
    "def sigmoid(val: np.ndarray) -> np.ndarray:\n",
    "    \"\"\" sigmoid function \"\"\"\n",
    "    pass\n",
    "\n",
    "class LogisticRegression():\n",
    "    \"\"\"\n",
    "    logistic regression\n",
    "    \"\"\"\n",
    "    def __init__(self,\n",
    "        c_in: int, c_out: int,\n",
    "        init_mean: float, init_var: float,\n",
    "        bias: bool=True\n",
    "    ) -> None:\n",
    "        pass\n",
    "\n",
    "    def predict(self,\n",
    "        x: np.ndarray,\n",
    "        weight: np.ndarray=None\n",
    "    ) -> np.ndarray:\n",
    "        pass\n",
    "\n",
    "    def fit_gradient_descent(self,\n",
    "        x: np.ndarray, y: np.ndarray,\n",
    "        step: float=0.001, iteration: int=100\n",
    "    )->None:\n",
    "        pass"
   ]
  },
  {
   "cell_type": "code",
   "execution_count": null,
   "metadata": {},
   "outputs": [],
   "source": [
    "\n",
    "# === 创建模型并进行拟合 ===\n",
    "# model = LogisticRegression(?)\n",
    "\n",
    "# === 计算模型的分类准确率 ===\n",
    "# accuracy =\n",
    "# print(accuracy)\n"
   ]
  },
  {
   "cell_type": "markdown",
   "metadata": {},
   "source": [
    "### 参考之前线性模型实验的代码,实现模拟退火法拟合"
   ]
  },
  {
   "cell_type": "code",
   "execution_count": null,
   "metadata": {},
   "outputs": [],
   "source": [
    "import numpy as np\n",
    "from copy import deepcopy\n",
    "\n",
    "class SimulatedAnnealing(object):\n",
    "    def __init__(self,c_in, c_out, init_mean, init_val, bias) -> None:\n",
    "        self.model = LogisticRegression(c_in, c_out, init_mean, init_val, bias)\n",
    "\n",
    "    def nll_loss(self, logits, label):\n",
    "        '''计算nll损失'''\n",
    "        logits = logits[:, 0]\n",
    "        loss = logits * label + (1-logits)*(1-label)\n",
    "        return -np.log(loss.mean())\n",
    "\n",
    "    def accuracy(self, logits, label):\n",
    "        '''计算分类准确率'''\n",
    "        label = label[:, np.newaxis]\n",
    "        preds = np.where(logits > 0.5,\n",
    "                         np.ones_like(logits),\n",
    "                         np.zeros_like(logits))\n",
    "\n",
    "        return np.array(preds == label, np.uint).mean()\n",
    "\n",
    "    def fit(self, x, y, step=0.01, iterations=100, rounds=10, init_temp=1):\n",
    "        # 首先使用给定的数据拟合\n",
    "        self.model.fit_gradient_descent(x, y, step, iterations)\n",
    "\n",
    "        # 初始化最优状态\n",
    "        best_model = deepcopy(self.model)\n",
    "        best_accu = self.accuracy(self.model.predict(x), y)\n",
    "        best_loss = self.nll_loss(self.model.predict(x), y)\n",
    "        print(\"init_accu = \", best_accu)\n",
    "        print(\"init_loss = \", best_loss)\n",
    "\n",
    "        temp = init_temp\n",
    "        # 开始多轮迭代\n",
    "        for round_idx in range(rounds):\n",
    "            # 温度下降\n",
    "            temp = temp * 0.9\n",
    "\n",
    "            # 添加扰动更新权重\n",
    "            # perturb = ?\n",
    "            # cur_model.weight = ?\n",
    "\n",
    "            # 在新状态下拟合并计算新状态损失\n",
    "            # cur_loss = ?\n",
    "\n",
    "            print(f\"#{round_idx}/{rounds}, temp = {temp:3f} best_loss = {best_loss:.4f} cur_loss = {cur_loss:.4f},\")\n",
    "            \n",
    "            # 确认是否更新\n",
    "            if cur_loss < best_loss:\n",
    "                best_model = deepcopy(cur_model)\n",
    "                best_loss = cur_loss\n",
    "\n",
    "model = SimulatedAnnealing(c_in, c_out, 0, 0.1, True)\n",
    "model.fit(x_train_std, y_train, 0.01, 100, 10, 1)\n",
    "\n",
    "print(model.accuracy(model.model.predict(x_train_std), y_train))\n",
    "print(model.accuracy(model.model.predict(x_test_std), y_test))"
   ]
  }
 ],
 "metadata": {
  "kernelspec": {
   "display_name": "ai",
   "language": "python",
   "name": "python3"
  },
  "language_info": {
   "codemirror_mode": {
    "name": "ipython",
    "version": 3
   },
   "file_extension": ".py",
   "mimetype": "text/x-python",
   "name": "python",
   "nbconvert_exporter": "python",
   "pygments_lexer": "ipython3",
   "version": "3.8.15"
  }
 },
 "nbformat": 4,
 "nbformat_minor": 2
}
