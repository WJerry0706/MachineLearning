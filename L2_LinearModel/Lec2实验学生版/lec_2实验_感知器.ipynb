{
 "cells": [
  {
   "cell_type": "markdown",
   "metadata": {},
   "source": [
    "# <机器学习>课程 Lecture2 实验"
   ]
  },
  {
   "cell_type": "markdown",
   "metadata": {},
   "source": [
    "## 感知器\n",
    "\n",
    "给定一组数据,其输入维度为2,输出维度为1,完成二分类任务.\n",
    "\n",
    "请参考之前的代码和PPT内容,手动实现感知器模型(仅可以使用numpy),并完成分类."
   ]
  },
  {
   "cell_type": "markdown",
   "metadata": {},
   "source": [
    "首先加载数据."
   ]
  },
  {
   "cell_type": "code",
   "metadata": {
    "ExecuteTime": {
     "end_time": "2025-03-13T18:13:41.786320Z",
     "start_time": "2025-03-13T18:13:41.777202Z"
    }
   },
   "source": [
    "import numpy as np\n",
    "\n",
    "x = np.array([\n",
    "    [-0.5, 0.5],\n",
    "    [-0.5, 0.5],\n",
    "    [0.3, -0.5],\n",
    "    [0.0, 1.0]\n",
    "])\n",
    "y = np.array([1, 1, -1, -1])"
   ],
   "outputs": [],
   "execution_count": 6
  },
  {
   "cell_type": "markdown",
   "metadata": {},
   "source": [
    "参考之前实验中梯度下降算法的实现,实现感知器模型."
   ]
  },
  {
   "cell_type": "code",
   "metadata": {
    "ExecuteTime": {
     "end_time": "2025-03-13T18:13:41.852608Z",
     "start_time": "2025-03-13T18:13:41.813269Z"
    }
   },
   "source": [
    "import numpy as np\n",
    "\n",
    "class Perceptron:\n",
    "    \"\"\"\n",
    "    感知器模型\n",
    "    \"\"\"\n",
    "    def __init__(self,\n",
    "                 c_in: int,\n",
    "                 init_mean: float, init_var: float,\n",
    "                 with_bias: bool = True\n",
    "                 ) -> None:\n",
    "        self.c_in = c_in\n",
    "        self.with_bias = with_bias\n",
    "\n",
    "        if with_bias:\n",
    "            weight_size = (c_in + 1, 1)\n",
    "        else:\n",
    "            weight_size = (c_in, 1)\n",
    "\n",
    "        # 初始化参数\n",
    "        self.weight = np.random.normal(\n",
    "            init_mean, init_var,\n",
    "            size=weight_size)\n",
    "\n",
    "    def predict(self,\n",
    "                x: np.ndarray,\n",
    "                ) -> np.ndarray:\n",
    "        # [C] -> [B, C]\n",
    "        if len(x.shape) == 1:\n",
    "            x = x[np.newaxis, :]\n",
    "\n",
    "        # 对于存在bias的情况进行扩充,添加bias的指数1\n",
    "        if x.shape[1] == self.c_in and self.with_bias:\n",
    "            b = x.shape[0]\n",
    "            x = np.concatenate([x, np.ones((b, 1))], axis=1)\n",
    "\n",
    "        probs = np.matmul(x, self.weight)\n",
    "\n",
    "        # 使用阶跃函数,大于0为+1,小于0为-1\n",
    "        return np.sign(probs)\n",
    "\n",
    "    def fit(self,\n",
    "            x: np.ndarray, y: np.ndarray,\n",
    "            step: float = 0.001,\n",
    "            epochs: int = 100\n",
    "            ) -> None:\n",
    "        '''\n",
    "        使用梯度下降法拟合感知器模型。\n",
    "        :param x: 输入特征矩阵，形状为 (n_samples, n_features)\n",
    "        :param y: 目标标签向量，形状为 (n_samples,)\n",
    "        :param step: 学习率\n",
    "        :param epochs: 训练轮数\n",
    "        '''\n",
    "        b = x.shape[0]  # 样本数\n",
    "        if len(y.shape) == 1:\n",
    "            y = y[:, np.newaxis]  # 将 y 转换为列向量\n",
    "\n",
    "        # 如果使用偏置项，将偏置项添加到输入特征中\n",
    "        if x.shape[1] == self.c_in and self.with_bias:\n",
    "            x = np.concatenate([x, np.ones((b, 1))], axis=1)\n",
    "\n",
    "        # 梯度下降训练\n",
    "        for epoch_idx in range(epochs):\n",
    "            for b_idx in range(b):\n",
    "                # 预测结果\n",
    "                preds = np.sign(np.dot(x[b_idx], self.weight))  # 计算预测值\n",
    "\n",
    "                # 计算梯度更新值，并将其转换为列向量\n",
    "                update_val = step * (y[b_idx] - preds) * x[b_idx][:, np.newaxis]\n",
    "\n",
    "                # 更新权重\n",
    "                self.weight += update_val\n",
    "\n",
    "# 示例数据\n",
    "x = np.array([[1, 2], [2, 3], [3, 4], [4, 5], [5, 6], [6, 7]])\n",
    "y = np.array([-1, -1, -1, 1, 1, 1])\n",
    "\n",
    "# 训练感知器\n",
    "model = Perceptron(2, 0.5, 0, 0.5)\n",
    "print(\"Initial weights:\\n\", model.weight)\n",
    "\n",
    "model.fit(x, y, step=0.01, epochs=1000)\n",
    "print(\"Trained weights:\\n\", model.weight)\n",
    "\n",
    "# 预测\n",
    "predictions = model.predict(x)[:, 0]\n",
    "print(\"True labels:\", y)\n",
    "print(\"Predictions:\", predictions)"
   ],
   "outputs": [
    {
     "name": "stdout",
     "output_type": "stream",
     "text": [
      "Initial weights:\n",
      " [[0.5]\n",
      " [0.5]\n",
      " [0.5]]\n",
      "Trained weights:\n",
      " [[ 0.24]\n",
      " [-0.2 ]\n",
      " [ 0.06]]\n",
      "True labels: [-1 -1 -1  1  1  1]\n",
      "Predictions: [-1. -1. -1.  1.  1.  1.]\n"
     ]
    }
   ],
   "execution_count": 7
  }
 ],
 "metadata": {
  "kernelspec": {
   "display_name": "ML",
   "language": "python",
   "name": "ml"
  },
  "language_info": {
   "codemirror_mode": {
    "name": "ipython",
    "version": 3
   },
   "file_extension": ".py",
   "mimetype": "text/x-python",
   "name": "python",
   "nbconvert_exporter": "python",
   "pygments_lexer": "ipython3",
   "version": "3.9.21"
  }
 },
 "nbformat": 4,
 "nbformat_minor": 4
}
