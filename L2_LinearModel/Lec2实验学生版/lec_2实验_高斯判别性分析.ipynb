{
 "cells": [
  {
   "cell_type": "markdown",
   "metadata": {},
   "source": [
    "# <机器学习>课程 Lecture2 实验"
   ]
  },
  {
   "cell_type": "markdown",
   "metadata": {},
   "source": [
    "## 高斯判别性分析\n",
    "\n",
    "给定一组数据,其输入维度为2,输出维度为1,完成二分类任务.\n",
    "\n",
    "请使用高斯判别性分析来进行分类并绘制类别分界面."
   ]
  },
  {
   "cell_type": "markdown",
   "metadata": {},
   "source": [
    "首先加载数据."
   ]
  },
  {
   "cell_type": "code",
   "execution_count": null,
   "metadata": {},
   "outputs": [],
   "source": [
    "import numpy as np\n",
    "from sklearn.model_selection import train_test_split\n",
    "\n",
    "data_filename = \"cls_data_0303_1007_2.npy\"\n",
    "cls_data = np.load(data_filename)\n",
    "x_data, y_data = cls_data[:, :-1], cls_data[:, -1]\n",
    "\n",
    "x_train, x_test, y_train, y_test = train_test_split(\n",
    "    x_data, y_data,\n",
    "    train_size=0.8, shuffle=True,\n",
    "    stratify=y_data\n",
    ")\n",
    "\n",
    "# x_data in [b, c_in]\n",
    "c_in = x_data.shape[1]\n",
    "# y_data in [b, c_out]\n",
    "c_out = 1\n"
   ]
  },
  {
   "cell_type": "markdown",
   "metadata": {},
   "source": [
    "定义高斯判别性分析.\n",
    "\n",
    "在fit函数中分别统计不同类别的数据的均值和协方差.\n",
    "\n",
    "在predict中根据均值和协方差矩阵计算概率,并选择概率最大的类别作为输出."
   ]
  },
  {
   "cell_type": "code",
   "execution_count": null,
   "metadata": {},
   "outputs": [],
   "source": [
    "import numpy as np\n",
    "from scipy.stats import multivariate_normal\n",
    "\n",
    "class GaussianDiscriminantAnalysis():\n",
    "    \"\"\"\n",
    "    高斯判别性分析\n",
    "    \"\"\"\n",
    "    def __init__(self,\n",
    "        same_cov: bool=False\n",
    "    ) -> None:\n",
    "        \"\"\"\n",
    "        same_cov 是否具有相同的协方差\n",
    "        \"\"\"\n",
    "        self.c_in = None\n",
    "        self.classes = None\n",
    "        self.means = None\n",
    "        self.covs = None\n",
    "        self.same_cov = same_cov\n",
    "\n",
    "    def fit(self,\n",
    "        x: np.ndarray, y:np.ndarray\n",
    "    )->None:\n",
    "        assert len(x.shape) == 2\n",
    "        assert x.shape[0] == y.shape[0]\n",
    "\n",
    "        self.c_in = x.shape[1]\n",
    "        self.classes = np.unique(y)\n",
    "\n",
    "        # 对于每一个类别,分别计算数据的均值和方差\n",
    "        # 使用高斯函数拟合数据分布\n",
    "        for cc in self.classes:\n",
    "            # mean = ?\n",
    "            # cov = ?\n",
    "\n",
    "        # self.means = ?\n",
    "        # self.covs = ?\n",
    "\n",
    "        assert self.means.shape[0] == len(self.classes)\n",
    "        assert self.means.shape[1] == self.c_in\n",
    "        assert self.covs.shape[0] == len(self.classes)\n",
    "\n",
    "        # 假定不同类别的数据有相同的协方差\n",
    "        if self.same_cov:\n",
    "            # self.covs = ?\n",
    "\n",
    "    def predict(self,\n",
    "        x: np.ndarray\n",
    "    )->np.ndarray:\n",
    "\n",
    "        # 对于每一个类别计算预测概率\n",
    "        for idx, cc in enumerate(self.classes):\n",
    "            # prob = ?\n",
    "        # probs = ?\n",
    "        assert probs.shape[0] == x.shape[0]\n",
    "        assert probs.shape[1] == len(self.classes)\n",
    "\n",
    "        return probs.argmax(axis=1)\n"
   ]
  },
  {
   "cell_type": "code",
   "execution_count": null,
   "metadata": {},
   "outputs": [],
   "source": [
    "from matplotlib import pyplot as plt\n",
    "from matplotlib.colors import ListedColormap\n",
    "import numpy as np\n",
    "\n",
    "#可视化函数\n",
    "def plot_decision_regions(x, y, classifier, resolution=0.02):\n",
    "    markers = ['s', 'o', '^', 'v']\n",
    "    colors = ['r', 'g', 'b', 'cyan']\n",
    "    cmap = ListedColormap(colors[:len(np.unique(y))])\n",
    "\n",
    "    x1_min, x1_max = x[:, 0].min() - 1, x[:, 0].max() + 1\n",
    "    x2_min, x2_max = x[:, 1].min() - 1, x[:, 1].max() + 1\n",
    "    xx1, xx2 = np.meshgrid(np.arange(x1_min, x1_max, resolution), np.arange(x2_min, x2_max, resolution))\n",
    "    grid = np.array([xx1.ravel(), xx2.ravel()]).T\n",
    "\n",
    "    # == 对于生成meshgrid的每一个点计算降维和分类结果 ==\n",
    "    z = classifier.predict(grid)\n",
    "    z = z.reshape(xx1.shape)\n",
    "    plt.contourf(xx1, xx2, z, alpha=0.4, cmap=cmap)\n",
    "\n",
    "    for idx, cc in enumerate(np.unique(y)):\n",
    "        plt.scatter(x=x[y[:, 0] == cc, 0],\n",
    "                    y=x[y.ravel() == cc, 1],\n",
    "                    alpha=0.6,\n",
    "                    c=cmap(idx),\n",
    "                    edgecolor='black',\n",
    "                    marker=markers[idx],\n",
    "                    label=cc)\n"
   ]
  },
  {
   "cell_type": "code",
   "execution_count": null,
   "metadata": {},
   "outputs": [],
   "source": [
    "model = GaussianDiscriminantAnalysis(same_cov=True)\n",
    "model.fit(x_train, y_train)\n",
    "\n",
    "res = model.predict(x_test)\n",
    "accuracy = np.sum(res == y_test) / x_test.shape[0]\n",
    "print(accuracy)\n",
    "\n",
    "plt.figure(figsize=(6, 7), dpi=100)  \n",
    "plot_decision_regions(x_train, y_train[:, np.newaxis], classifier=model)\n",
    "plt.show()"
   ]
  },
  {
   "cell_type": "code",
   "execution_count": null,
   "metadata": {},
   "outputs": [],
   "source": [
    "model = GaussianDiscriminantAnalysis(same_cov=False)\n",
    "model.fit(x_train, y_train)\n",
    "\n",
    "res = model.predict(x_test)\n",
    "accuracy = np.sum(res == y_test) / x_test.shape[0]\n",
    "print(accuracy)\n",
    "\n",
    "plt.figure(figsize=(6, 7), dpi=100)  \n",
    "plot_decision_regions(x_train, y_train[:, np.newaxis], classifier=model)\n",
    "plt.show()"
   ]
  }
 ],
 "metadata": {
  "kernelspec": {
   "display_name": "ai",
   "language": "python",
   "name": "python3"
  },
  "language_info": {
   "codemirror_mode": {
    "name": "ipython",
    "version": 3
   },
   "file_extension": ".py",
   "mimetype": "text/x-python",
   "name": "python",
   "nbconvert_exporter": "python",
   "pygments_lexer": "ipython3",
   "version": "3.8.15"
  }
 },
 "nbformat": 4,
 "nbformat_minor": 2
}
