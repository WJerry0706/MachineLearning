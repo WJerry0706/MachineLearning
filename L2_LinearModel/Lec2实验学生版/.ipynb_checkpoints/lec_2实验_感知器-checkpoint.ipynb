{
 "cells": [
  {
   "cell_type": "markdown",
   "metadata": {},
   "source": [
    "# <机器学习>课程 Lecture2 实验"
   ]
  },
  {
   "cell_type": "markdown",
   "metadata": {},
   "source": [
    "## 感知器\n",
    "\n",
    "给定一组数据,其输入维度为2,输出维度为1,完成二分类任务.\n",
    "\n",
    "请参考之前的代码和PPT内容,手动实现感知器模型(仅可以使用numpy),并完成分类."
   ]
  },
  {
   "cell_type": "markdown",
   "metadata": {},
   "source": [
    "首先加载数据."
   ]
  },
  {
   "cell_type": "code",
   "execution_count": null,
   "metadata": {},
   "outputs": [],
   "source": [
    "import numpy as np\n",
    "\n",
    "x = np.array([\n",
    "    [-0.5, 0.5],\n",
    "    [-0.5, 0.5],\n",
    "    [0.3, -0.5],\n",
    "    [0.0, 1.0]\n",
    "])\n",
    "y = np.array([1, 1, -1, -1])"
   ]
  },
  {
   "cell_type": "markdown",
   "metadata": {},
   "source": [
    "参考之前实验中梯度下降算法的实现,实现感知器模型."
   ]
  },
  {
   "cell_type": "code",
   "execution_count": null,
   "metadata": {},
   "outputs": [],
   "source": [
    "import numpy as np\n",
    "\n",
    "class Perceptron():\n",
    "    \"\"\"\n",
    "    感知器模型\n",
    "    \"\"\"\n",
    "    def __init__(self,\n",
    "        c_in: int,\n",
    "        init_mean: float, init_var: float,\n",
    "        with_bias: bool = True\n",
    "    ) -> None:\n",
    "        self.c_in = c_in\n",
    "        self.with_bias = with_bias\n",
    "\n",
    "        if with_bias:\n",
    "            weight_size = (c_in+1, 1)\n",
    "        else:\n",
    "            weight_size = (c_in, 1)\n",
    "\n",
    "        # 初始化参数\n",
    "        self.weight = np.random.normal(\n",
    "            init_mean, init_var,\n",
    "            size=weight_size)\n",
    "\n",
    "    def predict(self, \n",
    "        x: np.ndarray,\n",
    "    )->np.ndarray:\n",
    "        # [C] -> [B, C]\n",
    "        if len(x.shape) == 1:\n",
    "            x = x[np.newaxis, :]\n",
    "\n",
    "        # 对于存在bias的情况进行扩充,添加bias的指数1\n",
    "        if x.shape[1] == self.c_in and self.with_bias:\n",
    "            b = x.shape[0]\n",
    "            x = np.concatenate([x, np.ones((b, 1))], axis=1)\n",
    "\n",
    "        probs = np.matmul(x, self.weight)\n",
    "\n",
    "        # 使用阶跃函数,大于0为+1,小于0为-1\n",
    "        return np.sign(probs)\n",
    "\n",
    "    def fit(self,\n",
    "        x: np.ndarray, y: np.ndarray,\n",
    "        step: float=0.001,\n",
    "        epochs: int=100\n",
    "    )->None:\n",
    "        '''\n",
    "        使用梯度下降法拟合\n",
    "        '''\n",
    "        b = x.shape[0]\n",
    "        if len(y.shape) == 1:\n",
    "            y = y[:, np.newaxis]\n",
    " \n",
    "        if x.shape[1] == self.c_in and self.with_bias:\n",
    "            x = np.concatenate([x, np.ones((b, 1))], axis=1)\n",
    "\n",
    "        # === 计算感知器权重的更新 ===\n",
    "        for epoch_idx in range(epochs):\n",
    "            for b_idx in range(b):\n",
    "                # 预测结果\n",
    "                # preds = ?\n",
    "                # 进行梯度更新\n",
    "                # update_val = ?\n",
    "                # self.weight = ?\n",
    "\n",
    "model = Perceptron(2, 0.5, 0, 0.5)\n",
    "print(model.weight)\n",
    "\n",
    "model.fit(x, y, 0.01, 1000)\n",
    "print(model.weight)\n",
    "\n",
    "print(y)\n",
    "print(model.predict(x)[:, 0])"
   ]
  }
 ],
 "metadata": {
  "kernelspec": {
   "display_name": "ai",
   "language": "python",
   "name": "python3"
  },
  "language_info": {
   "codemirror_mode": {
    "name": "ipython",
    "version": 3
   },
   "file_extension": ".py",
   "mimetype": "text/x-python",
   "name": "python",
   "nbconvert_exporter": "python",
   "pygments_lexer": "ipython3",
   "version": "3.8.15"
  }
 },
 "nbformat": 4,
 "nbformat_minor": 2
}
