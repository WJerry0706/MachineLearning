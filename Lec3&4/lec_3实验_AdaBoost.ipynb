{
 "cells": [
  {
   "cell_type": "markdown",
   "metadata": {},
   "source": [
    "# <机器学习>课程 Lecture 3 实验"
   ]
  },
  {
   "cell_type": "markdown",
   "metadata": {},
   "source": [
    "## AdaBoost\n",
    "\n",
    "使用sklearn实现的adaboost算法,对逻辑回归函数进行集成."
   ]
  },
  {
   "cell_type": "code",
   "execution_count": 129,
   "metadata": {},
   "outputs": [],
   "source": [
    "import numpy as np\n",
    "from sklearn.model_selection import train_test_split\n",
    "\n",
    "data_filename = 'cls_data_svm_rbf.npy'\n",
    "# data_filename = 'cls_data_svm_linear_overlap.npy'\n",
    "cls_data = np.load(data_filename)\n",
    "x_data, y_data = cls_data[:, :-1], cls_data[:, -1]\n",
    "\n",
    "x_train, x_test, y_train, y_test = train_test_split(\n",
    "    x_data, y_data,\n",
    "    train_size=0.8, shuffle=True,\n",
    "    stratify=y_data\n",
    ")"
   ]
  },
  {
   "cell_type": "code",
   "execution_count": 133,
   "metadata": {},
   "outputs": [
    {
     "name": "stdout",
     "output_type": "stream",
     "text": [
      "0.6698113207547169\n",
      "0.7830188679245284\n"
     ]
    }
   ],
   "source": [
    "from sklearn.linear_model import LogisticRegression\n",
    "from sklearn.tree import DecisionTreeClassifier\n",
    "from sklearn.ensemble import AdaBoostClassifier\n",
    "\n",
    "base_model = DecisionTreeClassifier(max_depth=2, splitter='random', criterion='entropy')\n",
    "\n",
    "model = AdaBoostClassifier(\n",
    "    base_estimator=base_model,\n",
    "    n_estimators=4, random_state=42\n",
    ")\n",
    "\n",
    "base_model.fit(x_train, y_train)\n",
    "print((y_test == base_model.predict(x_test)).mean())\n",
    "\n",
    "model.fit(x_train, y_train)\n",
    "print((y_test == model.predict(x_test)).mean())\n",
    "\n"
   ]
  },
  {
   "cell_type": "markdown",
   "metadata": {},
   "source": [
    "## Bagging\n",
    "\n",
    "使用sklearn实现的bagging函数对逻辑回归函数进行集成."
   ]
  },
  {
   "cell_type": "code",
   "execution_count": 136,
   "metadata": {},
   "outputs": [
    {
     "name": "stdout",
     "output_type": "stream",
     "text": [
      "0.5660377358490566\n",
      "0.8679245283018868\n"
     ]
    }
   ],
   "source": [
    "from sklearn.linear_model import LogisticRegression\n",
    "from sklearn.tree import DecisionTreeClassifier\n",
    "from sklearn.ensemble import BaggingClassifier\n",
    "\n",
    "base_model = DecisionTreeClassifier(max_depth=2, splitter='random', criterion='entropy')\n",
    "\n",
    "model = BaggingClassifier(\n",
    "    base_estimator=base_model,\n",
    "    n_estimators=4, random_state=42\n",
    ")\n",
    "\n",
    "base_model.fit(x_train, y_train)\n",
    "print((y_test == base_model.predict(x_test)).mean())\n",
    "\n",
    "model.fit(x_train, y_train)\n",
    "print((y_test == model.predict(x_test)).mean())\n",
    "\n"
   ]
  }
 ],
 "metadata": {
  "kernelspec": {
   "display_name": "ai",
   "language": "python",
   "name": "python3"
  },
  "language_info": {
   "codemirror_mode": {
    "name": "ipython",
    "version": 3
   },
   "file_extension": ".py",
   "mimetype": "text/x-python",
   "name": "python",
   "nbconvert_exporter": "python",
   "pygments_lexer": "ipython3",
   "version": "3.8.15"
  }
 },
 "nbformat": 4,
 "nbformat_minor": 2
}
